{
 "cells": [
  {
   "cell_type": "code",
   "execution_count": 1,
   "metadata": {},
   "outputs": [],
   "source": [
    "#IMPORT LIBRARIES FOR PROJECT\n",
    "\n",
    "\n",
    "import pandas as pd\n",
    "import matplotlib.pyplot as plt\n",
    "import seaborn as sns"
   ]
  },
  {
   "cell_type": "code",
   "execution_count": 2,
   "metadata": {},
   "outputs": [
    {
     "data": {
      "text/plain": [
       "(   respondent_id  h1n1_concern  h1n1_knowledge  behavioral_antiviral_meds  \\\n",
       " 0              0           1.0             0.0                        0.0   \n",
       " 1              1           3.0             2.0                        0.0   \n",
       " 2              2           1.0             1.0                        0.0   \n",
       " 3              3           1.0             1.0                        0.0   \n",
       " 4              4           2.0             1.0                        0.0   \n",
       " \n",
       "    behavioral_avoidance  behavioral_face_mask  behavioral_wash_hands  \\\n",
       " 0                   0.0                   0.0                    0.0   \n",
       " 1                   1.0                   0.0                    1.0   \n",
       " 2                   1.0                   0.0                    0.0   \n",
       " 3                   1.0                   0.0                    1.0   \n",
       " 4                   1.0                   0.0                    1.0   \n",
       " \n",
       "    behavioral_large_gatherings  behavioral_outside_home  \\\n",
       " 0                          0.0                      1.0   \n",
       " 1                          0.0                      1.0   \n",
       " 2                          0.0                      0.0   \n",
       " 3                          1.0                      0.0   \n",
       " 4                          1.0                      0.0   \n",
       " \n",
       "    behavioral_touch_face  ...             income_poverty  marital_status  \\\n",
       " 0                    1.0  ...              Below Poverty     Not Married   \n",
       " 1                    1.0  ...              Below Poverty     Not Married   \n",
       " 2                    0.0  ...  <= $75,000, Above Poverty     Not Married   \n",
       " 3                    0.0  ...              Below Poverty     Not Married   \n",
       " 4                    1.0  ...  <= $75,000, Above Poverty         Married   \n",
       " \n",
       "    rent_or_own   employment_status  hhs_geo_region                census_msa  \\\n",
       " 0          Own  Not in Labor Force        oxchjgsf                   Non-MSA   \n",
       " 1         Rent            Employed        bhuqouqj  MSA, Not Principle  City   \n",
       " 2          Own            Employed        qufhixun  MSA, Not Principle  City   \n",
       " 3         Rent  Not in Labor Force        lrircsnp       MSA, Principle City   \n",
       " 4          Own            Employed        qufhixun  MSA, Not Principle  City   \n",
       " \n",
       "    household_adults  household_children  employment_industry  \\\n",
       " 0               0.0                 0.0                  NaN   \n",
       " 1               0.0                 0.0             pxcmvdjn   \n",
       " 2               2.0                 0.0             rucpziij   \n",
       " 3               0.0                 0.0                  NaN   \n",
       " 4               1.0                 0.0             wxleyezf   \n",
       " \n",
       "    employment_occupation  \n",
       " 0                    NaN  \n",
       " 1               xgwztkwe  \n",
       " 2               xtkaffoo  \n",
       " 3                    NaN  \n",
       " 4               emcorrxb  \n",
       " \n",
       " [5 rows x 36 columns],\n",
       "    respondent_id  h1n1_vaccine  seasonal_vaccine\n",
       " 0              0             0                 0\n",
       " 1              1             0                 1\n",
       " 2              2             0                 0\n",
       " 3              3             0                 1\n",
       " 4              4             0                 0)"
      ]
     },
     "execution_count": 2,
     "metadata": {},
     "output_type": "execute_result"
    }
   ],
   "source": [
    " #Load the training set features and labels\n",
    "train_features = pd.read_csv('training_set_features.csv')\n",
    "train_labels = pd.read_csv('training_set_labels.csv')\n",
    "\n",
    "# Display the first few rows of the training set features and labels\n",
    "train_features_head = train_features.head()\n",
    "train_labels_head = train_labels.head()\n",
    "\n",
    "train_features_head, train_labels_head"
   ]
  },
  {
   "cell_type": "code",
   "execution_count": 3,
   "metadata": {},
   "outputs": [
    {
     "data": {
      "image/png": "[encoded data removed]",
      "text/plain": [
       "<Figure size 576x432 with 1 Axes>"
      ]
     },
     "metadata": {},
     "output_type": "display_data"
    }
   ],
   "source": [
    "# Setting for plots\n",
    "sns.set_style(\"whitegrid\")\n",
    "\n",
    "# Plot distribution of the h1n1_vaccine target variable\n",
    "plt.figure(figsize=(8, 6))\n",
    "sns.countplot(x=train_labels['h1n1_vaccine'])\n",
    "plt.title('Distribution of H1N1 Vaccine Target Variable')\n",
    "plt.xlabel('H1N1 Vaccine')\n",
    "plt.ylabel('Count')\n",
    "plt.show()"
   ]
  },
  {
   "cell_type": "code",
   "execution_count": 4,
   "metadata": {},
   "outputs": [
    {
     "data": {
      "image/png": "[encoded data removed]",
      "text/plain": [
       "<Figure size 576x432 with 1 Axes>"
      ]
     },
     "metadata": {},
     "output_type": "display_data"
    }
   ],
   "source": [
    "# Plot distribution of the seasonal_vaccine target variable\n",
    "plt.figure(figsize=(8, 6))\n",
    "sns.countplot(x=train_labels['seasonal_vaccine'])\n",
    "plt.title('Distribution of Seasonal Flu Vaccine Target Variable')\n",
    "plt.xlabel('Seasonal Flu Vaccine')\n",
    "plt.ylabel('Count')\n",
    "plt.show()"
   ]
  },
  {
   "cell_type": "code",
   "execution_count": 5,
   "metadata": {},
   "outputs": [
    {
     "ename": "NameError",
     "evalue": "name 'merged_data' is not defined",
     "output_type": "error",
     "traceback": [
      "\u001b[1;31m---------------------------------------------------------------------------\u001b[0m",
      "\u001b[1;31mNameError\u001b[0m                                 Traceback (most recent call last)",
      "\u001b[1;32m<ipython-input-5-02fb7de6f897>\u001b[0m in \u001b[0;36m<module>\u001b[1;34m\u001b[0m\n\u001b[0;32m      1\u001b[0m \u001b[1;31m#get correlations of each features in dataset\u001b[0m\u001b[1;33m\u001b[0m\u001b[1;33m\u001b[0m\u001b[1;33m\u001b[0m\u001b[0m\n\u001b[1;32m----> 2\u001b[1;33m \u001b[0mcorrmat\u001b[0m \u001b[1;33m=\u001b[0m \u001b[0mmerged_data\u001b[0m\u001b[1;33m.\u001b[0m\u001b[0mcorr\u001b[0m\u001b[1;33m(\u001b[0m\u001b[1;33m)\u001b[0m\u001b[1;33m\u001b[0m\u001b[1;33m\u001b[0m\u001b[0m\n\u001b[0m\u001b[0;32m      3\u001b[0m \u001b[0mtop_corr_features\u001b[0m \u001b[1;33m=\u001b[0m \u001b[0mcorrmat\u001b[0m\u001b[1;33m.\u001b[0m\u001b[0mindex\u001b[0m\u001b[1;33m\u001b[0m\u001b[1;33m\u001b[0m\u001b[0m\n\u001b[0;32m      4\u001b[0m \u001b[0mplt\u001b[0m\u001b[1;33m.\u001b[0m\u001b[0mfigure\u001b[0m\u001b[1;33m(\u001b[0m\u001b[0mfigsize\u001b[0m\u001b[1;33m=\u001b[0m\u001b[1;33m(\u001b[0m\u001b[1;36m20\u001b[0m\u001b[1;33m,\u001b[0m\u001b[1;36m20\u001b[0m\u001b[1;33m)\u001b[0m\u001b[1;33m)\u001b[0m\u001b[1;33m\u001b[0m\u001b[1;33m\u001b[0m\u001b[0m\n\u001b[0;32m      5\u001b[0m \u001b[1;31m#plot heat map\u001b[0m\u001b[1;33m\u001b[0m\u001b[1;33m\u001b[0m\u001b[1;33m\u001b[0m\u001b[0m\n",
      "\u001b[1;31mNameError\u001b[0m: name 'merged_data' is not defined"
     ]
    }
   ],
   "source": [
    "#get correlations of each features in dataset\n",
    "corrmat = merged_data.corr()\n",
    "top_corr_features = corrmat.index\n",
    "plt.figure(figsize=(20,20))\n",
    "#plot heat map\n",
    "g=sns.heatmap(merged_data[top_corr_features].corr(),annot=True,cmap=\"Blues\")"
   ]
  },
  {
   "cell_type": "code",
   "execution_count": null,
   "metadata": {},
   "outputs": [],
   "source": [
    "# Create a contingency table\n",
    "contingency_table = pd.crosstab(train_labels['h1n1_vaccine'], train_labels['seasonal_vaccine'])\n",
    "\n",
    "# Plot the contingency table as a heatmap\n",
    "plt.figure(figsize=(8, 6))\n",
    "sns.heatmap(contingency_table, annot=True, fmt='d', cmap='Blues')\n",
    "plt.title('Contingency Table of H1N1 Vaccine vs Seasonal Vaccine')\n",
    "plt.xlabel('Seasonal Vaccine')\n",
    "plt.ylabel('H1N1 Vaccine')\n",
    "plt.show()"
   ]
  },
  {
   "cell_type": "code",
   "execution_count": null,
   "metadata": {},
   "outputs": [],
   "source": [
    "# Perform Chi-squared test for independence\n",
    "from scipy.stats import chi2_contingency\n",
    "chi2, p, _, _ = chi2_contingency(contingency_table)\n",
    "\n",
    "chi2, p"
   ]
  },
  {
   "cell_type": "code",
   "execution_count": null,
   "metadata": {},
   "outputs": [],
   "source": [
    "# Merge the target columns with the feature dataset\n",
    "merged_data = train_features.merge(train_labels, on=\"respondent_id\")\n",
    "\n",
    "# Compute the correlation matrix\n",
    "correlation_matrix = merged_data.corr()\n",
    "\n",
    "# Extract correlations with the two target variables\n",
    "h1n1_correlations = correlation_matrix[\"h1n1_vaccine\"].sort_values(ascending=False)\n",
    "seasonal_correlations = correlation_matrix[\"seasonal_vaccine\"].sort_values(ascending=False)\n",
    "\n",
    "# Plot correlations\n",
    "fig, (ax1, ax2) = plt.subplots(2, 1, figsize=(12, 16))\n",
    "\n",
    "# H1N1 Vaccine Correlations\n",
    "sns.barplot(x=h1n1_correlations[1:], y=h1n1_correlations.index[1:], ax=ax1, palette=\"coolwarm\")\n",
    "ax1.set_title(\"Correlation of Features with H1N1 Vaccine\")\n",
    "ax1.set_xlabel(\"Correlation Coefficient\")\n",
    "\n",
    "# Seasonal Vaccine Correlations\n",
    "sns.barplot(x=seasonal_correlations[1:], y=seasonal_correlations.index[1:], ax=ax2, palette=\"coolwarm\")\n",
    "ax2.set_title(\"Correlation of Features with Seasonal Vaccine\")\n",
    "ax2.set_xlabel(\"Correlation Coefficient\")\n",
    "\n",
    "plt.tight_layout()\n",
    "plt.show()\n"
   ]
  },
  {
   "cell_type": "code",
   "execution_count": null,
   "metadata": {},
   "outputs": [],
   "source": [
    "# Select a subset of key features and the h1n1_vaccine target for pairplot\n",
    "selected_features = ['h1n1_concern', 'h1n1_knowledge', 'doctor_recc_h1n1', 'opinion_h1n1_vacc_effective', 'h1n1_vaccine']\n",
    "subset_data = merged_data[selected_features]\n",
    "\n",
    "# Plot pairplot\n",
    "sns.pairplot(subset_data, hue='h1n1_vaccine', plot_kws={'alpha':0.5}, palette=\"husl\")\n",
    "plt.suptitle('Multivariate Analysis of Key Features vs H1N1 Vaccine', y=1.02)\n",
    "plt.show()\n"
   ]
  },
  {
   "cell_type": "markdown",
   "metadata": {},
   "source": [
    " pairplot provides a visual analysis of the pairwise relationships between selected features and the H1N1 vaccination decision:\n",
    "\n",
    "H1N1 Concern vs. H1N1 Knowledge: There doesn't appear to be a strong linear relationship between an individual's level of concern about H1N1 and their knowledge about H1N1. However, the distribution suggests that those with a higher concern often have some level of knowledge.\n",
    "\n",
    "Doctor Recommendation vs. Opinion on Vaccine Effectiveness: It's evident that when doctors recommend the vaccine (doctor_recc_h1n1), individuals tend to have a higher opinion of the vaccine's effectiveness (opinion_h1n1_vacc_effective).\n",
    "\n",
    "H1N1 Vaccine Distribution: The hue of the points (representing whether an individual received the H1N1 vaccine) shows that people with higher opinions about vaccine effectiveness, higher H1N1 concern, and doctor recommendations are more likely to get vaccinated."
   ]
  },
  {
   "cell_type": "code",
   "execution_count": null,
   "metadata": {},
   "outputs": [],
   "source": [
    "# Select a subset of key features and the seasonal_vaccine target for pairplot\n",
    "selected_features_seasonal = ['h1n1_concern', 'h1n1_knowledge', 'doctor_recc_seasonal', 'opinion_seas_vacc_effective', 'seasonal_vaccine']\n",
    "subset_data_seasonal = merged_data[selected_features_seasonal]\n",
    "\n",
    "# Plot pairplot\n",
    "sns.pairplot(subset_data_seasonal, hue='seasonal_vaccine', plot_kws={'alpha':0.5}, palette=\"husl\")\n",
    "plt.suptitle('Multivariate Analysis of Key Features vs Seasonal Vaccine', y=1.02)\n",
    "plt.show()\n"
   ]
  },
  {
   "cell_type": "code",
   "execution_count": null,
   "metadata": {},
   "outputs": [],
   "source": [
    "# Function to plot stacked bar chart for demographic feature vs vaccine\n",
    "def plot_stacked_bar(feature, vaccine, title):\n",
    "    # Create crosstab for the feature and vaccine\n",
    "    ct = pd.crosstab(merged_data[feature], merged_data[vaccine], normalize='index') * 100\n",
    "    ct.plot(kind='bar', stacked=True, color=['#d9534f', '#5bc0de'], figsize=(10, 6))\n",
    "    plt.title(title)\n",
    "    plt.ylabel('Percentage (%)')\n",
    "    plt.xticks(rotation=45)\n",
    "    plt.legend(title=vaccine, labels=['Not Vaccinated', 'Vaccinated'])\n",
    "    plt.show()\n",
    "\n",
    "# Plot for age_group vs h1n1_vaccine\n",
    "plot_stacked_bar('age_group', 'h1n1_vaccine', 'Distribution of Age Group for H1N1 Vaccine')\n",
    "\n",
    "# Plot for age_group vs seasonal_vaccine\n",
    "plot_stacked_bar('age_group', 'seasonal_vaccine', 'Distribution of Age Group for Seasonal Vaccine')\n"
   ]
  },
  {
   "cell_type": "code",
   "execution_count": null,
   "metadata": {},
   "outputs": [],
   "source": [
    "# Plotting the distribution for other demographic features\n",
    "\n",
    "# For education vs h1n1_vaccine and seasonal_vaccine\n",
    "plot_stacked_bar('education', 'h1n1_vaccine', 'Distribution of Education for H1N1 Vaccine')\n",
    "plot_stacked_bar('education', 'seasonal_vaccine', 'Distribution of Education for Seasonal Vaccine')\n",
    "\n",
    "# For income_poverty vs h1n1_vaccine and seasonal_vaccine\n",
    "plot_stacked_bar('income_poverty', 'h1n1_vaccine', 'Distribution of Income Poverty for H1N1 Vaccine')\n",
    "plot_stacked_bar('income_poverty', 'seasonal_vaccine', 'Distribution of Income Poverty for Seasonal Vaccine')\n",
    "\n",
    "# For race vs h1n1_vaccine and seasonal_vaccine\n",
    "plot_stacked_bar('race', 'h1n1_vaccine', 'Distribution of Race for H1N1 Vaccine')\n",
    "plot_stacked_bar('race', 'seasonal_vaccine', 'Distribution of Race for Seasonal Vaccine')\n",
    "\n",
    "# For sex vs h1n1_vaccine and seasonal_vaccine\n",
    "plot_stacked_bar('sex', 'h1n1_vaccine', 'Distribution of Sex for H1N1 Vaccine')\n",
    "plot_stacked_bar('sex', 'seasonal_vaccine', 'Distribution of Sex for Seasonal Vaccine')\n"
   ]
  },
  {
   "cell_type": "code",
   "execution_count": null,
   "metadata": {},
   "outputs": [],
   "source": [
    "\n",
    "\n",
    "\n",
    "# Selecting the subset of features for the pairplot\n",
    "selected_features_pairplot = ['h1n1_concern', 'h1n1_knowledge', 'opinion_h1n1_vacc_effective', \n",
    "                              'opinion_h1n1_risk', 'doctor_recc_h1n1', 'h1n1_vaccine']\n",
    "subset_data_pairplot = merged_data[selected_features_pairplot]\n",
    "\n",
    "# Plotting the pairplot\n",
    "sns.pairplot(subset_data_pairplot, hue='h1n1_vaccine', plot_kws={'alpha':0.5}, palette=\"husl\", corner=True)\n",
    "plt.suptitle('Pairwise Relationships of Selected Features with H1N1 Vaccine', y=1.02)\n",
    "plt.show()\n"
   ]
  },
  {
   "cell_type": "markdown",
   "metadata": {},
   "source": [
    "the pairplot provides a visual analysis of the pairwise relationships between selected features and the H1N1 vaccination decision:\n",
    "\n",
    "H1N1 Concern vs. H1N1 Knowledge: The scatter plot suggests that as the level of concern about H1N1 increases, the level of knowledge about H1N1 also tends to increase.\n",
    "Opinions on H1N1 Vaccine Effectiveness and Risk: It's evident that individuals who perceive the vaccine as effective (higher scores on opinion_h1n1_vacc_effective) also tend to perceive a higher risk from H1N1 (opinion_h1n1_risk).\n",
    "Doctor Recommendations: The scatter plots show that individuals who received a recommendation from a doctor (doctor_recc_h1n1) generally have a higher opinion of the vaccine's effectiveness and perceive a higher risk from H1N1.\n",
    "The histograms on the diagonal represent the univariate distributions of the respective features. For example, most respondents have a high level of concern about H1N1 (h1n1_concern), and many believe that the vaccine is quite effective (opinion_h1n1_vacc_effective)."
   ]
  },
  {
   "cell_type": "code",
   "execution_count": null,
   "metadata": {},
   "outputs": [],
   "source": [
    "# Adjusting the selected features to focus on the seasonal flu vaccine\n",
    "selected_features_pairplot_seasonal = ['h1n1_concern', 'h1n1_knowledge', 'opinion_seas_vacc_effective', \n",
    "                                       'opinion_seas_risk', 'doctor_recc_seasonal', 'seasonal_vaccine']\n",
    "subset_data_pairplot_seasonal = merged_data[selected_features_pairplot_seasonal]\n",
    "\n",
    "# Plotting the pairplot for the selected features with respect to the seasonal flu\n",
    "sns.pairplot(subset_data_pairplot_seasonal, hue='seasonal_vaccine', plot_kws={'alpha':0.5}, palette=\"husl\", corner=True)\n",
    "plt.suptitle('Pairwise Relationships of Selected Features with Seasonal Vaccine', y=1.02)\n",
    "plt.show()\n"
   ]
  },
  {
   "cell_type": "markdown",
   "metadata": {},
   "source": [
    "The pairplot visualizes the pairwise relationships between selected features and the decision to receive the seasonal flu vaccine:\n",
    "\n",
    "H1N1 Concern vs. H1N1 Knowledge: Just like with the H1N1 vaccine, there's a general trend where a higher level of concern often aligns with more knowledge.\n",
    "Opinions on Seasonal Vaccine Effectiveness and Risk: Individuals who perceive the seasonal vaccine as effective (higher scores on opinion_seas_vacc_effective) also tend to perceive a higher risk from the seasonal flu (opinion_seas_risk).\n",
    "Doctor Recommendations: There's a clear distinction in the doctor_recc_seasonal scatter plots. Those who received a recommendation from a doctor generally have a higher opinion of the vaccine's effectiveness and perceive a higher risk from the seasonal flu.\n",
    "The histograms on the diagonal represent the univariate distributions of the respective features. Most respondents believe that the seasonal flu vaccine is quite effective (opinion_seas_vacc_effective)."
   ]
  },
  {
   "cell_type": "code",
   "execution_count": null,
   "metadata": {},
   "outputs": [],
   "source": [
    "from sklearn.preprocessing import StandardScaler, OneHotEncoder\n",
    "from sklearn.compose import ColumnTransformer\n",
    "from sklearn.pipeline import Pipeline\n",
    "from sklearn.impute import SimpleImputer\n",
    "\n",
    "# Identify numerical and categorical columns\n",
    "numerical_cols = train_features.select_dtypes(include=['int64', 'float64']).columns.tolist()\n",
    "categorical_cols = train_features.select_dtypes(include=['object']).columns.tolist()\n",
    "\n",
    "# Remove columns with a high percentage of missing values (> 40%)\n",
    "columns_to_drop = missing_data[missing_data['Percentage'] > 40].index.tolist()\n",
    "for col in columns_to_drop:\n",
    "    if col in numerical_cols:\n",
    "        numerical_cols.remove(col)\n",
    "    if col in categorical_cols:\n",
    "        categorical_cols.remove(col)\n",
    "\n",
    "# Preprocessing for numerical data\n",
    "numerical_transformer = Pipeline(steps=[\n",
    "    ('imputer', SimpleImputer(strategy='median')),\n",
    "    ('scaler', StandardScaler())\n",
    "])\n",
    "\n",
    "# Preprocessing for categorical data\n",
    "categorical_transformer = Pipeline(steps=[\n",
    "    ('imputer', SimpleImputer(strategy='most_frequent')),\n",
    "    ('onehot', OneHotEncoder(handle_unknown='ignore'))\n",
    "])\n",
    "\n",
    "# Bundle preprocessing for numerical and categorical data\n",
    "preprocessor = ColumnTransformer(\n",
    "    transformers=[\n",
    "        ('num', numerical_transformer, numerical_cols),\n",
    "        ('cat', categorical_transformer, categorical_cols)\n",
    "    ], \n",
    "    remainder='drop'  # Drop columns with high missing values\n",
    ")\n",
    "\n",
    "# Preprocess the training features\n",
    "train_features_preprocessed = preprocessor.fit_transform(train_features)\n",
    "\n",
    "# Shape of the preprocessed data\n",
    "train_features_preprocessed.shape\n"
   ]
  },
  {
   "cell_type": "code",
   "execution_count": null,
   "metadata": {},
   "outputs": [],
   "source": [
    "import numpy as np\n",
    "from sklearn.neighbors import NearestNeighbors\n",
    "\n",
    "def manual_SMOTE(data, target, k=5, sampling_rate=1):\n",
    "    \"\"\"\n",
    "    Manual implementation of SMOTE.\n",
    "    \n",
    "    Parameters:\n",
    "    - data: Features (numpy array)\n",
    "    - target: Target variable (numpy array)\n",
    "    - k: Number of nearest neighbors\n",
    "    - sampling_rate: Percentage of SMOTE samples to generate\n",
    "    \n",
    "    Returns:\n",
    "    - New features and target arrays augmented with SMOTE samples\n",
    "    \"\"\"\n",
    "    \n",
    "    # Identify minority class samples\n",
    "    minority_samples = data[target == 1]\n",
    "    \n",
    "    # Calculate the number of new synthetic samples to generate\n",
    "    n_samples = int(len(minority_samples) * sampling_rate)\n",
    "    \n",
    "    # Find k nearest neighbors for each minority sample\n",
    "    nbrs = NearestNeighbors(n_neighbors=k).fit(minority_samples)\n",
    "    neighbours = nbrs.kneighbors(minority_samples, return_distance=False)\n",
    "    \n",
    "    # Generate synthetic samples\n",
    "    synthetic_samples = np.zeros((n_samples, data.shape[1]))\n",
    "    for i in range(n_samples):\n",
    "        # Randomly choose a minority sample\n",
    "        idx = np.random.randint(0, len(minority_samples))\n",
    "        chosen_sample = minority_samples[idx]\n",
    "        \n",
    "        # Choose one of its k neighbors\n",
    "        neighbor = minority_samples[neighbours[idx][np.random.choice(k)]]\n",
    "        \n",
    "        # Randomly choose a factor in [0, 1]\n",
    "        alpha = np.random.random()\n",
    "        \n",
    "        # Generate synthetic sample\n",
    "        synthetic_samples[i] = chosen_sample + alpha * (neighbor - chosen_sample)\n",
    "    \n",
    "    # Concatenate the original samples with the synthetic ones\n",
    "    new_data = np.vstack((data, synthetic_samples))\n",
    "    new_target = np.hstack((target, np.ones(n_samples)))\n",
    "    \n",
    "    return new_data, new_target\n",
    "\n",
    "# Apply SMOTE to the training data for h1n1_vaccine\n",
    "X_train_h1n1_smote, y_train_h1n1_smote = manual_SMOTE(np.array(X_train_h1n1), np.array(y_train_h1n1))\n",
    "\n",
    "# Check the distribution of the target after SMOTE\n",
    "target_distribution_after_smote = pd.Series(y_train_h1n1_smote).value_counts()\n",
    "\n",
    "target_distribution_after_smote\n"
   ]
  },
  {
   "cell_type": "code",
   "execution_count": null,
   "metadata": {},
   "outputs": [],
   "source": [
    "from sklearn.model_selection import StratifiedKFold\n",
    "from sklearn.metrics import accuracy_score\n",
    "import warnings\n",
    "from sklearn.exceptions import DataConversionWarning\n",
    "\n",
    "warnings.filterwarnings(action='ignore', category=DataConversionWarning)\n",
    "# Initialize 5-fold stratified cross-validation\n",
    "kf = StratifiedKFold(n_splits=5, shuffle=True, random_state=42)\n",
    "\n",
    "# Placeholders for average accuracies\n",
    "avg_acc_rf = 0\n",
    "avg_acc_logreg = 0\n",
    "\n",
    "# Cross-validation loop\n",
    "for train_index, test_index in kf.split(X_train_h1n1, y_train_h1n1):\n",
    "    # Splitting data into train and validation sets for this fold\n",
    "    X_train_fold, X_test_fold = X_train_h1n1.iloc[train_index], X_train_h1n1.iloc[test_index]\n",
    "    y_train_fold, y_test_fold = y_train_h1n1.iloc[train_index], y_train_h1n1.iloc[test_index]\n",
    "    \n",
    "    # Apply SMOTE to the training data for this fold\n",
    "    X_train_fold_smote, y_train_fold_smote = (np.array(X_train_fold), np.array(y_train_fold))\n",
    "    \n",
    "    # Train and validate Random Forest model\n",
    "    rf = RandomForestClassifier(random_state=42, n_estimators=100)\n",
    "    rf.fit(X_train_fold_smote, y_train_fold_smote)\n",
    "    y_pred_fold_rf = rf.predict(X_test_fold)\n",
    "    avg_acc_rf += accuracy_score(y_test_fold, y_pred_fold_rf)\n",
    "    \n",
    "    # Train and validate Logistic Regression model\n",
    "    logreg = LogisticRegression(max_iter=1000, random_state=42)\n",
    "    logreg.fit(X_train_fold_smote, y_train_fold_smote)\n",
    "    y_pred_fold_logreg = logreg.predict(X_test_fold)\n",
    "    avg_acc_logreg += accuracy_score(y_test_fold, y_pred_fold_logreg)\n",
    "\n",
    "# Compute average accuracies\n",
    "avg_acc_rf /= 5\n",
    "avg_acc_logreg /= 5\n",
    "\n",
    "avg_acc_rf, avg_acc_logreg\n"
   ]
  }
 ],
 "metadata": {
  "kernelspec": {
   "display_name": "Python 3",
   "language": "python",
   "name": "python3"
  },
  "language_info": {
   "codemirror_mode": {
    "name": "ipython",
    "version": 3
   },
   "file_extension": ".py",
   "mimetype": "text/x-python",
   "name": "python",
   "nbconvert_exporter": "python",
   "pygments_lexer": "ipython3",
   "version": "3.8.5"
  }
 },
 "nbformat": 4,
 "nbformat_minor": 4
}
